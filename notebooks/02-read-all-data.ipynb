{
 "cells": [
  {
   "cell_type": "code",
   "execution_count": 1,
   "metadata": {
    "collapsed": true
   },
   "outputs": [],
   "source": [
    "import collections\n",
    "import functools\n",
    "import itertools\n",
    "import math\n",
    "import os\n",
    "\n",
    "import matplotlib.pyplot as plt\n",
    "import matplotlib.mlab as mlab\n",
    "from matplotlib import gridspec, ticker\n",
    "%matplotlib inline\n",
    "\n",
    "import pandas as pd\n",
    "\n",
    "import numpy as np\n",
    "\n",
    "import seaborn as sns\n",
    "sns.set_style('whitegrid')\n",
    "colors = sns.color_palette()\n",
    "\n",
    "import scipy\n",
    "from scipy.interpolate import interp1d\n",
    "\n",
    "import statsmodels.api as sm\n",
    "\n",
    "import sklearn\n",
    "from sklearn.cluster import KMeans\n",
    "from sklearn.preprocessing import scale\n",
    "\n",
    "from IPython.display import Image"
   ]
  },
  {
   "cell_type": "code",
   "execution_count": 2,
   "metadata": {
    "collapsed": true
   },
   "outputs": [],
   "source": [
    "def read_data(filename):\n",
    "    \"\"\" Reads in raw photoemission spectra and performs initial transformation\n",
    "        and cleaning.\n",
    "    \"\"\"\n",
    "    data = pd.read_csv(filename, sep='[\\t,]+', header=None, engine='python',\n",
    "                       na_values=['XXX.XXX'], names=['nm', 'QE'])\n",
    "\n",
    "    if data.nm.min() < 10.:                    # energy rather than wavelength, needs conversion\n",
    "        data['E'] = data.nm\n",
    "        data['nm'] = 1240. / data.E            # conversion of energy to wavelength\n",
    "    else:\n",
    "        data['E'] = 1240. / data.nm            # conversion of wavelength to energy\n",
    "\n",
    "    data['QE'] = data.QE.clip_lower(0.)        # remove negative elements\n",
    "    data['QE3'] = np.power(data.QE, 1. / 3.)   # QE^(1/3) so we can use a linear fit\n",
    "\n",
    "    return data"
   ]
  },
  {
   "cell_type": "code",
   "execution_count": 3,
   "metadata": {
    "collapsed": false
   },
   "outputs": [],
   "source": [
    "class LinearFit(object):\n",
    "\n",
    "    def __init__(self, x, y, fit):\n",
    "        self.x = x\n",
    "        self.X = sm.add_constant(x)\n",
    "        self.y = y\n",
    "        self.fit = fit\n",
    "\n",
    "        self.b = fit.params\n",
    "        self.y_intercept, self.slope = fit.params\n",
    "        self.x_intercept = -self.y_intercept / self.slope\n",
    "\n",
    "        self.xm = np.mean(x)\n",
    "        self.Sxx = np.sum(np.power(self.x - self.xm, 2))\n",
    "        self.ym = np.mean(y)\n",
    "        self.n = fit.nobs\n",
    "        self.dof = fit.df_resid\n",
    "        self.rsquared = fit.rsquared\n",
    "        self.stddev = np.sqrt(fit.ssr / fit.df_resid)\n",
    "\n",
    "    def yp(self, xp):\n",
    "        \"\"\"Calculates line over given x range.\"\"\"\n",
    "        return np.dot(sm.add_constant(xp), self.b)\n",
    "\n",
    "    def tstar(self, alpha):\n",
    "        \"\"\"Statistical t-test for confidence intervals.\"\"\"\n",
    "        return scipy.stats.distributions.t.ppf(1.0 - alpha / 2.0, self.dof)\n",
    "\n",
    "    def confidence_interval(self, xp=None, yp=None, alpha=0.05):\n",
    "        \"\"\"Calculates confidence interval for either x or y values.\"\"\"\n",
    "        if not (xp is None) ^ (yp is None):\n",
    "            raise ValueError('Only one of [xp, yp] must be specified.')\n",
    "\n",
    "        if xp is not None:\n",
    "            return self._y_ci(xp, alpha=alpha)\n",
    "        if yp is not None:\n",
    "            return self._x_ci(yp, alpha=alpha)\n",
    "\n",
    "    def prediction_interval(self, xp=None, yp=None, alpha=0.05):\n",
    "        \"\"\"Calculates prediction interval for either x or y values.\"\"\"\n",
    "        if not (xp is None) ^ (yp is None):\n",
    "            raise ValueError('Only one of [xp, yp] must be specified.')\n",
    "\n",
    "        if xp is not None:\n",
    "            return self._y_pi(xp, alpha=alpha)\n",
    "        if yp is not None:\n",
    "            return self._x_pi(yp, alpha=alpha)\n",
    "\n",
    "    def plot_fit(self, xp, axis, alpha=0.05, ci=True):\n",
    "        \"\"\"Plots the fit over given x range.\"\"\"\n",
    "        yp = self.yp(xp)\n",
    "\n",
    "        if ci:\n",
    "            ci = self.confidence_interval(xp, alpha=alpha)\n",
    "            pi = self.prediction_interval(xp, alpha=alpha)\n",
    "            axis.fill_between(xp, yp - pi, yp + pi, color='k', alpha=0.1)\n",
    "            axis.fill_between(xp, yp - ci, yp + ci, color='k', alpha=0.2)\n",
    "        axis.plot(xp, yp, c='k', ls=':')\n",
    "\n",
    "    def _y_ci(self, xp, alpha=0.05):\n",
    "        return (self.tstar(alpha) * self.stddev\n",
    "                * np.sqrt((1. / self.n) + (np.power(xp - self.xm, 2) / self.Sxx)))\n",
    "\n",
    "    def _y_pi(self, xp, alpha=0.05):\n",
    "        return (self.tstar(alpha) * self.stddev\n",
    "                * np.sqrt(1. + (1. / self.n) + (np.power(xp - self.xm, 2) / self.Sxx)))\n",
    "\n",
    "    def _x_ci(self, yp, alpha=0.05):\n",
    "        \"\"\"Inverse regression, after Sec 3.2 from Draper & Smith 1998.\"\"\"\n",
    "        xp = (yp - self.b[0]) / self.b[1]\n",
    "        dx = xp - self.xm\n",
    "        ts = self.tstar(alpha) * self.stddev\n",
    "        b1 = self.b[1]\n",
    "        g = (ts / b1) ** 2 / self.Sxx\n",
    "\n",
    "        left = dx * g\n",
    "        denom = (1. - g)\n",
    "        right = (ts / b1) * np.sqrt(dx ** 2 / self.Sxx + denom / self.n)\n",
    "\n",
    "        return np.array([(left - right) / denom, (left + right) / denom])\n",
    "\n",
    "    def _x_pi(self, yp, alpha=0.05):\n",
    "        \"\"\"Inverse regression, after Sec 3.2 from Draper & Smith 1998.\"\"\"\n",
    "        xp = (yp - self.b[0]) / self.b[1]\n",
    "        dx = xp - self.xm\n",
    "        ts = self.tstar(alpha) * self.stddev\n",
    "        b1 = self.b[1]\n",
    "        g = (ts / b1) ** 2 / self.Sxx\n",
    "\n",
    "        left = dx * g\n",
    "        denom = (1. - g)\n",
    "        right = (ts / b1) * np.sqrt(dx ** 2 / self.Sxx + denom / self.n + denom)\n",
    "\n",
    "        return np.array([(left - right) / denom, (left + right) / denom])"
   ]
  },
  {
   "cell_type": "code",
   "execution_count": 4,
   "metadata": {
    "collapsed": true
   },
   "outputs": [],
   "source": [
    "def find_linear(df, window_length=15):\n",
    "    \"\"\" Fits linear portion of spectra using a rolling mean of `window_length`\n",
    "        and takes the n best fits as candidates.\n",
    "    \"\"\"\n",
    "    if window_length % 2 == 0:\n",
    "        raise ValueError('The window must be odd')\n",
    "    if window_length < 5:\n",
    "        raise ValueError('The window must be at least 5')\n",
    "\n",
    "    stats = {\n",
    "        'i': [],\n",
    "        'slope': [],\n",
    "        'threshold': [],\n",
    "        'r2': [],\n",
    "        'stddev': [],\n",
    "    }\n",
    "    fits = []\n",
    "\n",
    "    n = (window_length - 1) // 2\n",
    "    for mid in range(n, len(df) - n):\n",
    "        low, high = mid - n, mid + n + 1\n",
    "        window = df.iloc[low:high]\n",
    "\n",
    "        x = window.E.values\n",
    "        X = sm.add_constant(x)\n",
    "        y = window.QE3.values\n",
    "\n",
    "        model = sm.OLS(y, X)\n",
    "        results = model.fit()\n",
    "\n",
    "        fit = LinearFit(x, y, results)\n",
    "\n",
    "        fits.append(fit)\n",
    "        stats['i'].append(mid)\n",
    "        stats['slope'].append(fit.slope)\n",
    "        stats['threshold'].append(fit.x_intercept)\n",
    "        stats['r2'].append(fit.rsquared)\n",
    "        stats['stddev'].append(fit.stddev)\n",
    "\n",
    "    stats = pd.DataFrame(stats)\n",
    "\n",
    "    # we are looking for the line with\n",
    "    #   a) the highest R^2\n",
    "    #   b) the highest slope\n",
    "\n",
    "    max_slope = stats.slope.max()\n",
    "    stats['best'] = stats.r2 + stats.slope / max_slope\n",
    "    maxima = scipy.signal.argrelmax(stats.best.values)[0]\n",
    "    best_fit = stats.iloc[maxima].best.idxmax()\n",
    "\n",
    "    return fits[best_fit]"
   ]
  },
  {
   "cell_type": "markdown",
   "metadata": {},
   "source": [
    "# Read data"
   ]
  },
  {
   "cell_type": "code",
   "execution_count": 5,
   "metadata": {
    "collapsed": true
   },
   "outputs": [],
   "source": [
    "data_folder = '../data/raw/'"
   ]
  },
  {
   "cell_type": "code",
   "execution_count": 6,
   "metadata": {
    "collapsed": false,
    "scrolled": false
   },
   "outputs": [
    {
     "name": "stdout",
     "output_type": "stream",
     "text": [
      "g2919pc: 4.103 +- [-0.01159584  0.01129819]\n",
      "g2278na: 3.414 +- [-0.00598498  0.00587423]\n",
      "g3133ap: 4.674 +- [-0.01434999  0.01391563]\n",
      "s0490c: 4.577 +- [-0.01256563  0.01223131]\n",
      "s0550b: 4.388 +- [-0.00940885  0.00920125]\n",
      "s0478b: 4.2 +- [-0.00599268  0.00590718]\n"
     ]
    },
    {
     "name": "stderr",
     "output_type": "stream",
     "text": [
      "/home/jmarini/.virtualenvs/photoemission/lib/python3.5/site-packages/ipykernel/__main__.py:11: RuntimeWarning: invalid value encountered in double_scalars\n",
      "/home/jmarini/.virtualenvs/photoemission/lib/python3.5/site-packages/statsmodels/regression/linear_model.py:1181: RuntimeWarning: invalid value encountered in double_scalars\n",
      "  return 1 - self.ssr/self.centered_tss\n",
      "/home/jmarini/.virtualenvs/photoemission/lib/python3.5/site-packages/scipy/signal/_peak_finding.py:68: RuntimeWarning: invalid value encountered in greater\n",
      "  results &= comparator(main, plus)\n",
      "/home/jmarini/.virtualenvs/photoemission/lib/python3.5/site-packages/scipy/signal/_peak_finding.py:69: RuntimeWarning: invalid value encountered in greater\n",
      "  results &= comparator(main, minus)\n"
     ]
    },
    {
     "name": "stdout",
     "output_type": "stream",
     "text": [
      "s0573b: 4.06 +- [-0.01475953  0.01435232]\n",
      "g2938: 4.286 +- [-0.02355094  0.02233867]\n",
      "g2227a: 3.752 +- [-0.02907255  0.02704029]\n",
      "g2993pc: 4.09 +- [-0.00877658  0.00864204]\n",
      "g3017ap: 3.597 +- [-0.02134187  0.0206877 ]\n",
      "g3024: 4.302 +- [-0.0150654   0.01451532]\n",
      "s0572b: 3.827 +- [-0.04871865  0.04491846]\n",
      "s0508a: 4.224 +- [-0.0282407   0.02699379]\n",
      "s0352a: 4.414 +- [-0.04297455  0.04012069]\n",
      "g2037: skipping\n",
      "Z041014B: 4.328 +- [-0.0081539   0.00801847]\n",
      "s0492a: 4.558 +- [-0.01490795  0.01445349]\n",
      "g3025: 4.149 +- [-0.02154103  0.02060132]\n",
      "s0477b: 4.461 +- [-0.00862857  0.00845552]\n",
      "g3179pc3: 4.81 +- [-0.04379983  0.04038871]\n",
      "g3270-1: 4.854 +- [-0.0232074   0.02217733]\n",
      "g3267-1c: 3.056 +- [-0.02330043  0.02132311]\n",
      "s0508b: 2.929 +- [ 0.98191312  0.20384431]\n",
      "g3179pc1: 4.773 +- [-0.04147104  0.0383526 ]\n",
      "s0571b: 4.678 +- [-0.03399514  0.03187139]\n",
      "s490b: 4.235 +- [-0.00614471  0.00605326]\n",
      "s0506b: 4.643 +- [-0.01526805  0.01479278]\n",
      "g2968pc: 4.247 +- [-0.01371539  0.01327806]\n",
      "t1748: 4.63 +- [-0.01203344  0.01172086]\n",
      "g3133ap: 4.68 +- [-0.01719099  0.01657796]\n",
      "s0584b: 4.486 +- [-0.00646382  0.00636965]\n",
      "g3114p: 4.629 +- [-0.01329566  0.0129199 ]\n",
      "s0492b: 4.601 +- [-0.0173667   0.01673209]\n",
      "s0667d: 4.673 +- [-0.01553728  0.01503455]\n",
      "s0666d: 4.67 +- [-0.01511474  0.01464684]\n",
      "s0492c: 4.45 +- [-0.00525787  0.00519594]\n",
      "g3129ap: 3.092 +- [-0.04832038  0.03877921]\n",
      "g3127p: 4.539 +- [-0.00726685  0.00714959]\n",
      "g3179pc2: 4.826 +- [-0.03015991  0.02843611]\n",
      "s0352c: 4.183 +- [-0.00957155  0.00936377]\n",
      "g3267-1c: 4.752 +- [-0.01888886  0.0181746 ]\n",
      "s0570b: 4.464 +- [-0.06957758  0.06197082]\n",
      "s0507b: 4.708 +- [-0.0164118   0.01587017]\n",
      "s0667c: 4.538 +- [-0.04187076  0.03897353]\n",
      "s0586b: 4.725 +- [-0.02358114  0.02249937]\n",
      "g3192ap: 4.501 +- [-0.00763452  0.00750608]\n",
      "g3193ap: 3.08 +- [-0.01327572  0.0125236 ]\n",
      "s0492d: skipping\n",
      "g3271-1c: 3.316 +- [-0.01595256  0.01496686]\n",
      "g3268-1c: 3.232 +- [-0.03422466  0.02976462]\n",
      "s0490a: 4.572 +- [-0.01774577  0.01710263]\n",
      "s0690d: 4.624 +- [-0.01428382  0.01385905]\n",
      "s0371a: 4.359 +- [-0.00871776  0.00853635]\n",
      "g2784pc: 4.581 +- [-0.00784887  0.00771225]\n",
      "s0691d: 4.653 +- [-0.01431334  0.01388559]\n",
      "s0043b: 3.861 +- [-0.06023131  0.05422962]\n",
      "s0585b: 4.445 +- [-0.05101913  0.04684811]\n",
      "s0666c: 4.707 +- [-0.02667227  0.02533484]\n",
      "s0507a: 3.923 +- [-0.02041673  0.0196921 ]\n",
      "g2277a73: 3.42 +- [-0.00531476  0.00521782]\n",
      "g2744pc: 4.46 +- [-0.00876688  0.0085883 ]\n",
      "s0506a: 3.886 +- [-0.04037398  0.03778103]\n",
      "g3182p1: 4.725 +- [-0.01718154  0.01659999]\n",
      "t1747: 4.558 +- [-0.00449224  0.00444647]\n",
      "s0690c: 4.685 +- [-0.01618572  0.01566036]\n",
      "g3193ap: 4.576 +- [-0.01319448  0.01281864]\n",
      "s0569b: 4.479 +- [-0.00460699  0.00455901]\n",
      "g2062: 4.493 +- [-0.01214421  0.011823  ]\n",
      "s0553b: 4.358 +- [-0.00919385  0.0089924 ]\n",
      "s0377: 4.777 +- [-0.03183704  0.02992319]\n",
      "s0051b: 4.461 +- [-0.05770932  0.05238468]\n",
      "s0549b: 4.454 +- [-0.00414387  0.00410526]\n",
      "g3129ap: 4.469 +- [-0.00555812  0.00548705]\n",
      "g3006pc: 3.993 +- [-0.14768125  0.11275744]\n",
      "s0371b: 4.271 +- [-0.00550941  0.00543663]\n",
      "s505b: 4.494 +- [-0.02090534  0.02012356]\n",
      "g3192ap: 3.041 +- [-0.00574333  0.00558771]\n",
      "s0691c: 4.753 +- [-0.02584433  0.02454672]\n",
      "g3272-1c: 3.277 +- [-0.00436028  0.00428396]\n",
      "g3057an: 3.503 +- [-0.01472638  0.01391953]\n",
      "g3268-1c: 4.759 +- [-0.01855897  0.01786947]\n",
      "s0378: 4.318 +- [-0.01312127  0.01274133]\n",
      "g3133ap: 3.132 +- [-0.01137078  0.01078283]\n"
     ]
    }
   ],
   "source": [
    "data = {'s': [], 't': [], 'e': [], 'q': []}\n",
    "skip = ['s0492d', 'g2037']\n",
    "for subdir, dirs, files in os.walk(data_folder):\n",
    "    for file in files:\n",
    "        if '_' not in file:\n",
    "            continue\n",
    "        try:\n",
    "            sample = os.path.splitext(file)[0].split('_')[1]\n",
    "        except:\n",
    "            print('Error: {}'.format(file))\n",
    "            continue\n",
    "    \n",
    "        if sample in skip:\n",
    "            print('{}: skipping'.format(sample))\n",
    "            continue\n",
    "\n",
    "        filename = os.path.join(data_folder, file)\n",
    "        df = read_data(filename)\n",
    "        f = find_linear(df, window_length=11)\n",
    "        print('{}: {:.4} +- {}'.format(sample, f.x_intercept, f.prediction_interval(yp=0)))\n",
    "        data['s'].append(sample)\n",
    "        data['t'].append(f.x_intercept)\n",
    "        data['e'].append(list(np.abs(f.prediction_interval(yp=0))[::-1]))\n",
    "        data['q'].append(df.QE.max())\n",
    "\n",
    "df = pd.DataFrame(data)"
   ]
  },
  {
   "cell_type": "markdown",
   "metadata": {},
   "source": [
    "# Various transformations"
   ]
  },
  {
   "cell_type": "code",
   "execution_count": 7,
   "metadata": {
    "collapsed": false
   },
   "outputs": [
    {
     "data": {
      "text/plain": [
       "<matplotlib.axes._subplots.AxesSubplot at 0x7fb41207d5f8>"
      ]
     },
     "execution_count": 7,
     "metadata": {},
     "output_type": "execute_result"
    },
    {
     "data": {
      "image/png": "[encoded data removed]",
      "text/plain": [
       "<matplotlib.figure.Figure at 0x7fb412054a90>"
      ]
     },
     "metadata": {},
     "output_type": "display_data"
    }
   ],
   "source": [
    "df.plot(x='t', y='q', kind='scatter')"
   ]
  },
  {
   "cell_type": "code",
   "execution_count": 8,
   "metadata": {
    "collapsed": false
   },
   "outputs": [
    {
     "data": {
      "text/plain": [
       "<matplotlib.axes._subplots.AxesSubplot at 0x7fb40ff60dd8>"
      ]
     },
     "execution_count": 8,
     "metadata": {},
     "output_type": "execute_result"
    },
    {
     "data": {
      "image/png": "[encoded data removed]",
      "text/plain": [
       "<matplotlib.figure.Figure at 0x7fb40ff706a0>"
      ]
     },
     "metadata": {},
     "output_type": "display_data"
    }
   ],
   "source": [
    "df2 = df[['t']].copy()\n",
    "df2['q'] = np.log10(df.q)\n",
    "\n",
    "df2.plot(x='t', y='q', kind='scatter')"
   ]
  },
  {
   "cell_type": "markdown",
   "metadata": {},
   "source": [
    "# Errorbars"
   ]
  },
  {
   "cell_type": "code",
   "execution_count": 9,
   "metadata": {
    "collapsed": false
   },
   "outputs": [
    {
     "data": {
      "text/plain": [
       "<matplotlib.axes._subplots.AxesSubplot at 0x7fb40fec3be0>"
      ]
     },
     "execution_count": 9,
     "metadata": {},
     "output_type": "execute_result"
    },
    {
     "data": {
      "image/png": "[encoded data removed]",
      "text/plain": [
       "<matplotlib.figure.Figure at 0x7fb40fed0278>"
      ]
     },
     "metadata": {},
     "output_type": "display_data"
    }
   ],
   "source": [
    "err = np.array(list(df.e)).T\n",
    "\n",
    "fig, ax = plt.subplots(1, 1, figsize=(8, 8))\n",
    "ax.errorbar(df.t, df.q, xerr=err, fmt='none', ecolor='k', capthick=1, elinewidth=1)\n",
    "df2.plot(x='t', y='q', kind='scatter', xlim=(4, 5), ylim=(0, 0.05), c='k', ax=ax)"
   ]
  },
  {
   "cell_type": "code",
   "execution_count": 10,
   "metadata": {
    "collapsed": false
   },
   "outputs": [
    {
     "data": {
      "image/png": "[encoded data removed]",
      "text/plain": [
       "<matplotlib.figure.Figure at 0x7fb40fe43668>"
      ]
     },
     "metadata": {},
     "output_type": "display_data"
    }
   ],
   "source": [
    "x = df.t.values\n",
    "y = np.sqrt(df.q.values)\n",
    "\n",
    "xerr = np.array(list(df.e)).T\n",
    "\n",
    "fig, ax = plt.subplots(1, 1, figsize=(8, 8))\n",
    "ax.errorbar(x, y, xerr=xerr, fmt='none', ecolor='k', capthick=1, elinewidth=1)\n",
    "ax.scatter(x, y, c='k')\n",
    "\n",
    "ax.set_xlim(4.1, 5)\n",
    "ax.set_ylim(0, 0.22)\n",
    "\n",
    "plt.show()"
   ]
  },
  {
   "cell_type": "code",
   "execution_count": null,
   "metadata": {
    "collapsed": true
   },
   "outputs": [],
   "source": []
  }
 ],
 "metadata": {
  "kernelspec": {
   "display_name": "Python 3",
   "language": "python",
   "name": "python3"
  },
  "language_info": {
   "codemirror_mode": {
    "name": "ipython",
    "version": 3
   },
   "file_extension": ".py",
   "mimetype": "text/x-python",
   "name": "python",
   "nbconvert_exporter": "python",
   "pygments_lexer": "ipython3",
   "version": "3.5.2"
  }
 },
 "nbformat": 4,
 "nbformat_minor": 2
}
